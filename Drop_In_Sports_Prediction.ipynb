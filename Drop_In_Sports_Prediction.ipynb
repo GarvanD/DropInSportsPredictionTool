{
  "nbformat": 4,
  "nbformat_minor": 0,
  "metadata": {
    "colab": {
      "name": "Drop In Sports Prediction.ipynb",
      "provenance": [],
      "collapsed_sections": []
    },
    "kernelspec": {
      "name": "python3",
      "display_name": "Python 3"
    },
    "accelerator": "GPU"
  },
  "cells": [
    {
      "cell_type": "code",
      "metadata": {
        "id": "0yIfOot7Jmhh",
        "colab_type": "code",
        "colab": {}
      },
      "source": [
        "import pandas as pd\n",
        "import numpy as np\n",
        "import pickle\n",
        "import tensorflow.compat.v2.feature_column as fc\n",
        "import tensorflow as tf\n",
        "from sklearn.model_selection import train_test_split\n",
        "from pprint import pprint as pp"
      ],
      "execution_count": 0,
      "outputs": []
    },
    {
      "cell_type": "markdown",
      "metadata": {
        "id": "INGAFZsHg25x",
        "colab_type": "text"
      },
      "source": [
        "Import data from pickled dataset"
      ]
    },
    {
      "cell_type": "code",
      "metadata": {
        "id": "XSy-hg4ZZKzL",
        "colab_type": "code",
        "colab": {
          "base_uri": "https://localhost:8080/",
          "height": 336
        },
        "outputId": "e63d2819-92b1-415e-c5cf-acb66bf6e86d"
      },
      "source": [
        "f = open('training_data.pickle', 'rb')\n",
        "data = pickle.load(f)\n",
        "f.close()\n",
        "pd.set_option('display.max_columns', None)"
      ],
      "execution_count": 64,
      "outputs": [
        {
          "output_type": "stream",
          "text": [
            "         badminton   basketball   volleyball         temp     dewpoint  \\\n",
            "count  1544.000000  1544.000000  1544.000000  1544.000000  1544.000000   \n",
            "mean      2.547280     4.062176     0.888601     3.186010    -1.390155   \n",
            "std       3.697449     6.412582     2.242123     9.478198     9.202316   \n",
            "min       0.000000     0.000000     0.000000   -23.100000   -28.500000   \n",
            "25%       0.000000     1.000000     0.000000    -2.900000    -7.525000   \n",
            "50%       1.000000     2.000000     0.000000     1.700000    -2.400000   \n",
            "75%       4.000000     5.000000     1.000000     8.600000     3.825000   \n",
            "max      32.000000    72.000000    29.000000    29.600000    23.200000   \n",
            "\n",
            "          humidity         year        month          day         hour  \n",
            "count  1544.000000  1544.000000  1544.000000  1544.000000  1544.000000  \n",
            "mean     73.879534  2018.369819     7.060233    14.799223    17.937824  \n",
            "std      15.609243     0.646960     4.260582     8.665071     2.924191  \n",
            "min      20.000000  2017.000000     1.000000     1.000000    10.000000  \n",
            "25%      63.000000  2018.000000     3.000000     7.000000    15.000000  \n",
            "50%      75.000000  2018.000000     9.000000    14.000000    18.000000  \n",
            "75%      86.000000  2019.000000    11.000000    22.000000    20.000000  \n",
            "max      99.000000  2019.000000    12.000000    31.000000    23.000000  \n"
          ],
          "name": "stdout"
        }
      ]
    },
    {
      "cell_type": "markdown",
      "metadata": {
        "id": "u74x52f1g82d",
        "colab_type": "text"
      },
      "source": [
        "Split Data into 4 Sets; appropriate labels for sport and the weather vectors for training"
      ]
    },
    {
      "cell_type": "code",
      "metadata": {
        "id": "Ub5ILwcEZNvp",
        "colab_type": "code",
        "colab": {
          "base_uri": "https://localhost:8080/",
          "height": 34
        },
        "outputId": "96730e2c-f3a5-4b99-99dd-2fa4ff5764bb"
      },
      "source": [
        "weather = pd.concat([data['hour'],data['day'],data['month'],data['year'],data['temp'],data['dewpoint'],data['humidity']], axis=1)\n",
        "\n",
        "weather_basketball_train, weather_basketball_test, basketball_train, basketball_test = train_test_split(weather, data['basketball'], test_size=0.33, random_state=42)\n",
        "weather_volleyball_train, weather_volleyball_test, volleyball_train, volleyball_test = train_test_split(weather, data['volleyball'], test_size=0.33, random_state=42)\n",
        "weather_badminton_train, weather_badminton_test, badminton_train, badminton_test = train_test_split(weather, data['badminton'], test_size=0.33, random_state=42)"
      ],
      "execution_count": 65,
      "outputs": [
        {
          "output_type": "stream",
          "text": [
            "10 23\n"
          ],
          "name": "stdout"
        }
      ]
    },
    {
      "cell_type": "markdown",
      "metadata": {
        "id": "DwpkwC3Ej7Qa",
        "colab_type": "text"
      },
      "source": [
        "Next the categorical and numerical data must be split and encoded appropriately."
      ]
    },
    {
      "cell_type": "code",
      "metadata": {
        "id": "ItcSl-N_j6gq",
        "colab_type": "code",
        "colab": {}
      },
      "source": [
        "CATEGORICAL_COLUMNS = ['year', 'month', 'day','hour']\n",
        "NUMERIC_COLUMNS = ['temp', 'dewpoint','humidity']\n",
        "\n",
        "feature_columns = []\n",
        "for feature_name in CATEGORICAL_COLUMNS:\n",
        "  vocabulary = data[feature_name].unique()\n",
        "  feature_columns.append(tf.feature_column.categorical_column_with_vocabulary_list(feature_name, vocabulary))\n",
        "\n",
        "for feature_name in NUMERIC_COLUMNS:\n",
        "  feature_columns.append(tf.feature_column.numeric_column(feature_name, dtype=tf.float32))\n"
      ],
      "execution_count": 0,
      "outputs": []
    },
    {
      "cell_type": "markdown",
      "metadata": {
        "id": "EpWJ_cSflJm-",
        "colab_type": "text"
      },
      "source": [
        "Create input function for pipelining. "
      ]
    },
    {
      "cell_type": "code",
      "metadata": {
        "id": "QOC85BKolI-a",
        "colab_type": "code",
        "colab": {
          "base_uri": "https://localhost:8080/",
          "height": 437
        },
        "outputId": "ac3b6b38-478f-4dda-b483-6f7499698d74"
      },
      "source": [
        "def make_input_fn(data_df, label_df, num_epochs=10, shuffle=True, batch_size=32):\n",
        "  def input_function():\n",
        "    ds = tf.data.Dataset.from_tensor_slices((dict(data_df), label_df))\n",
        "    if shuffle:\n",
        "      ds = ds.shuffle(1000)\n",
        "    ds = ds.batch(batch_size).repeat(num_epochs)\n",
        "    return ds\n",
        "  return input_function\n",
        "\n",
        "\n",
        "train_input_fn_basketball = make_input_fn(weather_basketball_train, basketball_train)\n",
        "eval_input_fn_basketball = make_input_fn(weather_basketball_test, basketball_test, num_epochs=1, shuffle=False)\n",
        "\n",
        "train_input_fn_volleyball = make_input_fn(weather_volleyball_train, volleyball_train)\n",
        "eval_input_fn_volleyball = make_input_fn(weather_volleyball_test, volleyball_test, num_epochs=1, shuffle=False)\n",
        "\n",
        "train_input_fn_badminton = make_input_fn(weather_badminton_train, badminton_train)\n",
        "eval_input_fn_badminton = make_input_fn(weather_badminton_test, badminton_test, num_epochs=1, shuffle=False)\n"
      ],
      "execution_count": 67,
      "outputs": [
        {
          "output_type": "stream",
          "text": [
            "      hour  day  month  year  temp  dewpoint  humidity\n",
            "13      20   15     12  2019  -3.5      -6.5      79.0\n",
            "162     21   25     10  2019   3.7       2.7      93.0\n",
            "1704    23   27     11  2017   0.8      -2.0      81.0\n",
            "312     23   15      9  2019  17.6      16.1      91.0\n",
            "321     17   13      9  2019  24.1      21.4      85.0\n",
            "...    ...  ...    ...   ...   ...       ...       ...\n",
            "1250    20   17      4  2018   0.0      -0.9      94.0\n",
            "1422    15    9      2  2018  -6.6      -8.5      86.0\n",
            "956     20   20     11  2018  -4.4      -8.9      71.0\n",
            "1614    15    9     12  2017  -1.4      -3.9      83.0\n",
            "1246    16   22      4  2018  15.9      -6.9      20.0\n",
            "\n",
            "[1034 rows x 7 columns] 13      9\n",
            "162     3\n",
            "1704    1\n",
            "312     2\n",
            "321     2\n",
            "       ..\n",
            "1250    0\n",
            "1422    4\n",
            "956     2\n",
            "1614    8\n",
            "1246    0\n",
            "Name: basketball, Length: 1034, dtype: int64\n"
          ],
          "name": "stdout"
        }
      ]
    },
    {
      "cell_type": "markdown",
      "metadata": {
        "id": "QQoizV7Frc49",
        "colab_type": "text"
      },
      "source": [
        "Train linear regression models and measure accuracy"
      ]
    },
    {
      "cell_type": "code",
      "metadata": {
        "id": "pdFSyp8mjab_",
        "colab_type": "code",
        "colab": {
          "base_uri": "https://localhost:8080/",
          "height": 1000
        },
        "outputId": "67edb7d8-5ee6-402f-b509-929c432382a2"
      },
      "source": [
        "basketball_linear_est = tf.estimator.LinearRegressor(feature_columns=feature_columns)\n",
        "basketball_linear_est.train(train_input_fn_basketball)\n",
        "result = basketball_linear_est.evaluate(eval_input_fn_basketball)\n",
        "\n",
        "badminton_linear_est = tf.estimator.LinearRegressor(feature_columns=feature_columns)\n",
        "badminton_linear_est.train(train_input_fn_badminton)\n",
        "result = badminton_linear_est.evaluate(eval_input_fn_badminton)\n",
        "\n",
        "\n",
        "volleyball_linear_est = tf.estimator.LinearRegressor(feature_columns=feature_columns)\n",
        "volleyball_linear_est.train(train_input_fn_volleyball)\n",
        "result = volleyball_linear_est.evaluate(eval_input_fn_volleyball)\n"
      ],
      "execution_count": 78,
      "outputs": [
        {
          "output_type": "stream",
          "text": [
            "INFO:tensorflow:Using default config.\n",
            "WARNING:tensorflow:Using temporary folder as model directory: /tmp/tmp046js26k\n",
            "INFO:tensorflow:Using config: {'_model_dir': '/tmp/tmp046js26k', '_tf_random_seed': None, '_save_summary_steps': 100, '_save_checkpoints_steps': None, '_save_checkpoints_secs': 600, '_session_config': allow_soft_placement: true\n",
            "graph_options {\n",
            "  rewrite_options {\n",
            "    meta_optimizer_iterations: ONE\n",
            "  }\n",
            "}\n",
            ", '_keep_checkpoint_max': 5, '_keep_checkpoint_every_n_hours': 10000, '_log_step_count_steps': 100, '_train_distribute': None, '_device_fn': None, '_protocol': None, '_eval_distribute': None, '_experimental_distribute': None, '_experimental_max_worker_delay_secs': None, '_session_creation_timeout_secs': 7200, '_service': None, '_cluster_spec': <tensorflow.python.training.server_lib.ClusterSpec object at 0x7ff13002f4e0>, '_task_type': 'worker', '_task_id': 0, '_global_id_in_cluster': 0, '_master': '', '_evaluation_master': '', '_is_chief': True, '_num_ps_replicas': 0, '_num_worker_replicas': 1}\n",
            "INFO:tensorflow:Calling model_fn.\n",
            "INFO:tensorflow:Done calling model_fn.\n",
            "INFO:tensorflow:Create CheckpointSaverHook.\n",
            "INFO:tensorflow:Graph was finalized.\n",
            "INFO:tensorflow:Running local_init_op.\n",
            "INFO:tensorflow:Done running local_init_op.\n",
            "INFO:tensorflow:Saving checkpoints for 0 into /tmp/tmp046js26k/model.ckpt.\n",
            "INFO:tensorflow:loss = 1120.0, step = 0\n",
            "INFO:tensorflow:global_step/sec: 107.553\n",
            "INFO:tensorflow:loss = 395.6369, step = 100 (0.931 sec)\n",
            "INFO:tensorflow:global_step/sec: 124.884\n",
            "INFO:tensorflow:loss = 567.81067, step = 200 (0.801 sec)\n",
            "INFO:tensorflow:global_step/sec: 131.305\n",
            "INFO:tensorflow:loss = 255.3757, step = 300 (0.762 sec)\n",
            "INFO:tensorflow:Saving checkpoints for 330 into /tmp/tmp046js26k/model.ckpt.\n",
            "INFO:tensorflow:Loss for final step: 132.34497.\n",
            "INFO:tensorflow:Calling model_fn.\n",
            "INFO:tensorflow:Done calling model_fn.\n",
            "INFO:tensorflow:Starting evaluation at 2020-01-24T23:31:41Z\n",
            "INFO:tensorflow:Graph was finalized.\n",
            "INFO:tensorflow:Restoring parameters from /tmp/tmp046js26k/model.ckpt-330\n",
            "INFO:tensorflow:Running local_init_op.\n",
            "INFO:tensorflow:Done running local_init_op.\n",
            "INFO:tensorflow:Finished evaluation at 2020-01-24-23:31:42\n",
            "INFO:tensorflow:Saving dict for global step 330: average_loss = 44.855373, global_step = 330, label/mean = 4.535294, loss = 1429.765, prediction/mean = 4.736196\n",
            "INFO:tensorflow:Saving 'checkpoint_path' summary for global step 330: /tmp/tmp046js26k/model.ckpt-330\n",
            "INFO:tensorflow:Using default config.\n",
            "WARNING:tensorflow:Using temporary folder as model directory: /tmp/tmpy47r8vic\n",
            "INFO:tensorflow:Using config: {'_model_dir': '/tmp/tmpy47r8vic', '_tf_random_seed': None, '_save_summary_steps': 100, '_save_checkpoints_steps': None, '_save_checkpoints_secs': 600, '_session_config': allow_soft_placement: true\n",
            "graph_options {\n",
            "  rewrite_options {\n",
            "    meta_optimizer_iterations: ONE\n",
            "  }\n",
            "}\n",
            ", '_keep_checkpoint_max': 5, '_keep_checkpoint_every_n_hours': 10000, '_log_step_count_steps': 100, '_train_distribute': None, '_device_fn': None, '_protocol': None, '_eval_distribute': None, '_experimental_distribute': None, '_experimental_max_worker_delay_secs': None, '_session_creation_timeout_secs': 7200, '_service': None, '_cluster_spec': <tensorflow.python.training.server_lib.ClusterSpec object at 0x7ff0da8e92b0>, '_task_type': 'worker', '_task_id': 0, '_global_id_in_cluster': 0, '_master': '', '_evaluation_master': '', '_is_chief': True, '_num_ps_replicas': 0, '_num_worker_replicas': 1}\n",
            "INFO:tensorflow:Calling model_fn.\n",
            "INFO:tensorflow:Done calling model_fn.\n",
            "INFO:tensorflow:Create CheckpointSaverHook.\n",
            "INFO:tensorflow:Graph was finalized.\n",
            "INFO:tensorflow:Running local_init_op.\n",
            "INFO:tensorflow:Done running local_init_op.\n",
            "INFO:tensorflow:Saving checkpoints for 0 into /tmp/tmpy47r8vic/model.ckpt.\n",
            "INFO:tensorflow:loss = 641.0, step = 0\n",
            "INFO:tensorflow:global_step/sec: 104.46\n",
            "INFO:tensorflow:loss = 156.95682, step = 100 (0.959 sec)\n",
            "INFO:tensorflow:global_step/sec: 131.617\n",
            "INFO:tensorflow:loss = 1054.21, step = 200 (0.763 sec)\n",
            "INFO:tensorflow:global_step/sec: 131.799\n",
            "INFO:tensorflow:loss = 192.89136, step = 300 (0.759 sec)\n",
            "INFO:tensorflow:Saving checkpoints for 330 into /tmp/tmpy47r8vic/model.ckpt.\n",
            "INFO:tensorflow:Loss for final step: 129.74867.\n",
            "INFO:tensorflow:Calling model_fn.\n",
            "INFO:tensorflow:Done calling model_fn.\n",
            "INFO:tensorflow:Starting evaluation at 2020-01-24T23:31:47Z\n",
            "INFO:tensorflow:Graph was finalized.\n",
            "INFO:tensorflow:Restoring parameters from /tmp/tmpy47r8vic/model.ckpt-330\n",
            "INFO:tensorflow:Running local_init_op.\n",
            "INFO:tensorflow:Done running local_init_op.\n",
            "INFO:tensorflow:Finished evaluation at 2020-01-24-23:31:48\n",
            "INFO:tensorflow:Saving dict for global step 330: average_loss = 15.798832, global_step = 330, label/mean = 2.7470589, loss = 503.58777, prediction/mean = 2.7591553\n",
            "INFO:tensorflow:Saving 'checkpoint_path' summary for global step 330: /tmp/tmpy47r8vic/model.ckpt-330\n",
            "INFO:tensorflow:Using default config.\n",
            "WARNING:tensorflow:Using temporary folder as model directory: /tmp/tmp2vjg4fd5\n",
            "INFO:tensorflow:Using config: {'_model_dir': '/tmp/tmp2vjg4fd5', '_tf_random_seed': None, '_save_summary_steps': 100, '_save_checkpoints_steps': None, '_save_checkpoints_secs': 600, '_session_config': allow_soft_placement: true\n",
            "graph_options {\n",
            "  rewrite_options {\n",
            "    meta_optimizer_iterations: ONE\n",
            "  }\n",
            "}\n",
            ", '_keep_checkpoint_max': 5, '_keep_checkpoint_every_n_hours': 10000, '_log_step_count_steps': 100, '_train_distribute': None, '_device_fn': None, '_protocol': None, '_eval_distribute': None, '_experimental_distribute': None, '_experimental_max_worker_delay_secs': None, '_session_creation_timeout_secs': 7200, '_service': None, '_cluster_spec': <tensorflow.python.training.server_lib.ClusterSpec object at 0x7ff0da61d9e8>, '_task_type': 'worker', '_task_id': 0, '_global_id_in_cluster': 0, '_master': '', '_evaluation_master': '', '_is_chief': True, '_num_ps_replicas': 0, '_num_worker_replicas': 1}\n",
            "INFO:tensorflow:Calling model_fn.\n",
            "INFO:tensorflow:Done calling model_fn.\n",
            "INFO:tensorflow:Create CheckpointSaverHook.\n",
            "INFO:tensorflow:Graph was finalized.\n",
            "INFO:tensorflow:Running local_init_op.\n",
            "INFO:tensorflow:Done running local_init_op.\n",
            "INFO:tensorflow:Saving checkpoints for 0 into /tmp/tmp2vjg4fd5/model.ckpt.\n",
            "INFO:tensorflow:loss = 78.0, step = 0\n",
            "INFO:tensorflow:global_step/sec: 106.527\n",
            "INFO:tensorflow:loss = 66.97397, step = 100 (0.940 sec)\n",
            "INFO:tensorflow:global_step/sec: 130.759\n",
            "INFO:tensorflow:loss = 243.04224, step = 200 (0.766 sec)\n",
            "INFO:tensorflow:global_step/sec: 131.801\n",
            "INFO:tensorflow:loss = 29.665379, step = 300 (0.761 sec)\n",
            "INFO:tensorflow:Saving checkpoints for 330 into /tmp/tmp2vjg4fd5/model.ckpt.\n",
            "INFO:tensorflow:Loss for final step: 46.825294.\n",
            "INFO:tensorflow:Calling model_fn.\n",
            "INFO:tensorflow:Done calling model_fn.\n",
            "INFO:tensorflow:Starting evaluation at 2020-01-24T23:31:54Z\n",
            "INFO:tensorflow:Graph was finalized.\n",
            "INFO:tensorflow:Restoring parameters from /tmp/tmp2vjg4fd5/model.ckpt-330\n",
            "INFO:tensorflow:Running local_init_op.\n",
            "INFO:tensorflow:Done running local_init_op.\n",
            "INFO:tensorflow:Finished evaluation at 2020-01-24-23:31:54\n",
            "INFO:tensorflow:Saving dict for global step 330: average_loss = 5.4610825, global_step = 330, label/mean = 0.9764706, loss = 174.072, prediction/mean = 0.82350117\n",
            "INFO:tensorflow:Saving 'checkpoint_path' summary for global step 330: /tmp/tmp2vjg4fd5/model.ckpt-330\n"
          ],
          "name": "stdout"
        }
      ]
    },
    {
      "cell_type": "markdown",
      "metadata": {
        "id": "pUG_RR9KtcEV",
        "colab_type": "text"
      },
      "source": [
        "Gather input "
      ]
    },
    {
      "cell_type": "code",
      "metadata": {
        "id": "To2dAjnVtSDr",
        "colab_type": "code",
        "colab": {
          "base_uri": "https://localhost:8080/",
          "height": 252
        },
        "outputId": "ad3916f4-fd25-44da-f2fe-f4975c963451"
      },
      "source": [
        "print('Enter the year')\n",
        "year = input()\n",
        "print('Enter the month (1-12)')\n",
        "month = input()\n",
        "print('Enter the day (1-31)')\n",
        "day = input()\n",
        "print('Enter the hour  (10-23)')\n",
        "hour = input()\n",
        "print('Enter the temperature in celsius')\n",
        "temp = input()\n",
        "print('Enter the dewpoint in celsius')\n",
        "dewpoint = input()\n",
        "print('Enter the relative humidity (0-100)')\n",
        "humidity = input()"
      ],
      "execution_count": 69,
      "outputs": [
        {
          "output_type": "stream",
          "text": [
            "Enter the year\n",
            "2019\n",
            "Enter the month (1-12)\n",
            "11\n",
            "Enter the day (1-31)\n",
            "22\n",
            "Enter the hour  (10-23)\n",
            "12\n",
            "Enter the temperature in celsius\n",
            "2\n",
            "Enter the dewpoint in celsius\n",
            "0\n",
            "Enter the relative humidity (0-100)\n",
            "25\n"
          ],
          "name": "stdout"
        }
      ]
    },
    {
      "cell_type": "markdown",
      "metadata": {
        "id": "rDMAIUm-31Q1",
        "colab_type": "text"
      },
      "source": [
        "Obtain prediction from all models"
      ]
    },
    {
      "cell_type": "code",
      "metadata": {
        "id": "pWarSabXutAu",
        "colab_type": "code",
        "colab": {
          "base_uri": "https://localhost:8080/",
          "height": 319
        },
        "outputId": "892446e2-cf76-45cc-811a-bb942911884a"
      },
      "source": [
        "prediction_input = pd.DataFrame(data=[[int(year),int(month),int(day),int(hour),float(temp),float(dewpoint),float(humidity)]],columns=['year', 'month', 'day','hour','temp', 'dewpoint','humidity'])\n",
        "prediction = basketball_linear_est.predict(input_fn=tf.estimator.inputs.pandas_input_fn(x=prediction_input, y=None, batch_size=1, num_epochs=None, shuffle=False))\n",
        "prediction_output = {}\n",
        "for p in prediction:\n",
        "  prediction_output['basketball'] = 'Number of people playing basketball at ' + day + '/' + month + '/' + year + ' ' + hour+':00 is ' + str(int(p['predictions'][0]))\n",
        "  break\n",
        "\n",
        "prediction_input = pd.DataFrame(data=[[int(year),int(month),int(day),int(hour),float(temp),float(dewpoint),float(humidity)]],columns=['year', 'month', 'day','hour','temp', 'dewpoint','humidity'])\n",
        "prediction = volleyball_linear_est.predict(input_fn=tf.estimator.inputs.pandas_input_fn(x=prediction_input, y=None, batch_size=1, num_epochs=None, shuffle=False))\n",
        "for p in prediction:\n",
        "  prediction_output['volleyball'] = 'Number of people playing volleyball at ' + day + '/' + month + '/' + year + ' ' + hour+':00 is ' + str(int(p['predictions'][0]))\n",
        "  break\n",
        "\n",
        "prediction_input = pd.DataFrame(data=[[int(year),int(month),int(day),int(hour),float(temp),float(dewpoint),float(humidity)]],columns=['year', 'month', 'day','hour','temp', 'dewpoint','humidity'])\n",
        "prediction = badminton_linear_est.predict(input_fn=tf.estimator.inputs.pandas_input_fn(x=prediction_input, y=None, batch_size=1, num_epochs=None, shuffle=False))\n",
        "for p in prediction:\n",
        "  prediction_output['badminton'] = 'Number of people playing badminton at ' + day + '/' + month + '/' + year + ' ' + hour+':00 is ' + str(int(p['predictions'][0]))\n",
        "  break"
      ],
      "execution_count": 76,
      "outputs": [
        {
          "output_type": "stream",
          "text": [
            "INFO:tensorflow:Calling model_fn.\n",
            "INFO:tensorflow:Done calling model_fn.\n",
            "INFO:tensorflow:Graph was finalized.\n",
            "INFO:tensorflow:Restoring parameters from /tmp/tmp3c7ns0nj/model.ckpt-330\n",
            "INFO:tensorflow:Running local_init_op.\n",
            "INFO:tensorflow:Done running local_init_op.\n",
            "INFO:tensorflow:Calling model_fn.\n",
            "INFO:tensorflow:Done calling model_fn.\n",
            "INFO:tensorflow:Graph was finalized.\n",
            "INFO:tensorflow:Restoring parameters from /tmp/tmpfv2zxh8i/model.ckpt-330\n",
            "INFO:tensorflow:Running local_init_op.\n",
            "INFO:tensorflow:Done running local_init_op.\n",
            "INFO:tensorflow:Calling model_fn.\n",
            "INFO:tensorflow:Done calling model_fn.\n",
            "INFO:tensorflow:Graph was finalized.\n",
            "INFO:tensorflow:Restoring parameters from /tmp/tmpj2yys04b/model.ckpt-330\n",
            "INFO:tensorflow:Running local_init_op.\n",
            "INFO:tensorflow:Done running local_init_op.\n"
          ],
          "name": "stdout"
        }
      ]
    },
    {
      "cell_type": "markdown",
      "metadata": {
        "id": "Vqs2VIId3-Mi",
        "colab_type": "text"
      },
      "source": [
        "Output predictions"
      ]
    },
    {
      "cell_type": "code",
      "metadata": {
        "id": "AB4hgqLh39NY",
        "colab_type": "code",
        "colab": {
          "base_uri": "https://localhost:8080/",
          "height": 67
        },
        "outputId": "fcef1e5d-a5d8-47a4-ad7a-0cb44e9a922b"
      },
      "source": [
        "pp(prediction_output)"
      ],
      "execution_count": 77,
      "outputs": [
        {
          "output_type": "stream",
          "text": [
            "{'badminton': 'Number of people playing badminton at 22/11/2019 12:00 is 1',\n",
            " 'basketball': 'Number of people playing basketball at 22/11/2019 12:00 is 0',\n",
            " 'volleyball': 'Number of people playing volleyball at 22/11/2019 12:00 is 0'}\n"
          ],
          "name": "stdout"
        }
      ]
    }
  ]
}